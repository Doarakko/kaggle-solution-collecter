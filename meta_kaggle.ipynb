{
 "cells": [
  {
   "cell_type": "markdown",
   "metadata": {},
   "source": [
    "# Kaggle solutions"
   ]
  },
  {
   "cell_type": "code",
   "execution_count": 1,
   "metadata": {},
   "outputs": [],
   "source": [
    "import warnings\n",
    "from logging import StreamHandler, INFO, DEBUG, Formatter, FileHandler, getLogger\n",
    "\n",
    "import numpy as np\n",
    "import pandas as pd\n",
    "\n",
    "warnings.filterwarnings(\"ignore\")\n",
    "\n",
    "pd.set_option(\"display.max_colwidth\", 200)\n",
    "data_path = \"data/meta-kaggle/\"\n",
    "save_path = \"data/\"\n",
    "\n",
    "logger = getLogger(__name__)\n",
    "log_fmt = Formatter(\n",
    "    '%(asctime)s %(name)s %(lineno)d [%(levelname)s][%(funcName)s] %(message)s')\n",
    "# info\n",
    "handler = StreamHandler()\n",
    "handler.setLevel(INFO)\n",
    "handler.setFormatter(log_fmt)\n",
    "logger.addHandler(handler)\n",
    "logger.setLevel(INFO)\n",
    "# debug\n",
    "handler = StreamHandler()\n",
    "handler.setLevel(DEBUG)\n",
    "handler.setFormatter(log_fmt)\n",
    "logger.addHandler(handler)\n",
    "logger.setLevel(DEBUG)"
   ]
  },
  {
   "cell_type": "markdown",
   "metadata": {},
   "source": [
    "## Load data"
   ]
  },
  {
   "cell_type": "code",
   "execution_count": 2,
   "metadata": {},
   "outputs": [
    {
     "name": "stderr",
     "output_type": "stream",
     "text": [
      "2019-09-26 04:20:56,523 __main__ 1 [DEBUG][<module>] Load data\n"
     ]
    }
   ],
   "source": [
    "logger.debug('Load data')"
   ]
  },
  {
   "cell_type": "code",
   "execution_count": 3,
   "metadata": {},
   "outputs": [],
   "source": [
    "users_df = pd.read_csv(data_path + \"Users.csv\")\n",
    "users_df = users_df[['Id', 'UserName']]\n",
    "\n",
    "competitions_df = pd.read_csv(data_path + \"Competitions.csv\")\n",
    "competitions_df = competitions_df[competitions_df['HostSegmentTitle'] != 'InClass']\n",
    "competitions_df = competitions_df[['Id', 'Slug', 'DeadlineDate', 'ForumId']]\n",
    "\n",
    "kernel_version_competition_sources_df = pd.read_csv(data_path + \"KernelVersionCompetitionSources.csv\")\n",
    "\n",
    "forum_messages_df = pd.read_csv(data_path + \"ForumMessages.csv\")\n",
    "forum_messages_df = forum_messages_df[['Id', 'PostUserId']]"
   ]
  },
  {
   "cell_type": "markdown",
   "metadata": {},
   "source": [
    "## Get solutions from discussion"
   ]
  },
  {
   "cell_type": "code",
   "execution_count": 4,
   "metadata": {},
   "outputs": [
    {
     "name": "stderr",
     "output_type": "stream",
     "text": [
      "2019-09-26 04:21:04,981 __main__ 1 [DEBUG][<module>] Discussion\n"
     ]
    }
   ],
   "source": [
    "logger.debug('Discussion')"
   ]
  },
  {
   "cell_type": "code",
   "execution_count": 5,
   "metadata": {},
   "outputs": [],
   "source": [
    "forum_topics_df = pd.read_csv(data_path + \"ForumTopics.csv\")\n",
    "forum_topics_df = forum_topics_df[['Id', 'ForumId', 'Title', 'FirstForumMessageId', 'CreationDate', 'Score']]"
   ]
  },
  {
   "cell_type": "code",
   "execution_count": 6,
   "metadata": {},
   "outputs": [],
   "source": [
    "def get_solution_discussion(competition_slug, forum_id):\n",
    "    results_df = forum_topics_df[forum_topics_df[\"ForumId\"] == forum_id]\n",
    "    results_df['competition_ref'] = competition_slug\n",
    "    results_df[\"is_solution\"] = results_df[\"Title\"].apply(lambda x: is_solution(str(x)))\n",
    "    results_df[\"url\"] = results_df[\"Id\"].apply(lambda x: \"https://www.kaggle.com/c/{}/discussion/{}\".format(str(competition_slug), str(x)))\n",
    "    \n",
    "    results_df = results_df[results_df[\"is_solution\"] == 1]\n",
    "    return results_df[['competition_ref', 'Title', 'FirstForumMessageId', 'CreationDate', 'url', 'Score']]"
   ]
  },
  {
   "cell_type": "code",
   "execution_count": 7,
   "metadata": {},
   "outputs": [],
   "source": [
    "def is_solution(title):\n",
    "    is_solution = False\n",
    "    to_exclude = [\"?\", \"submit\", \"why\", \"what\", \"resolution\", \"benchmark\", \"base\", 'test', 'sample', 'probing', 'probe', 'split', 'between', 'distribution', 'vs', 'public/private',  'survey', 'leakage', 'difference', 'golden', 'replace', 'starter', 'leak', 'placement', 'simple', 'beginner', 'quick', 'fast', 'compact', 'basic']\n",
    "\n",
    "    to_include = ['solution', 'place', 'private', 'gold', 'silver', 'bronze', 'approach']\n",
    "\n",
    "    for inc in to_include:\n",
    "        if inc in title.lower():\n",
    "            is_solution = True\n",
    "            for exc in to_exclude:\n",
    "                if exc in title.lower():\n",
    "                    is_solution = False\n",
    "    \n",
    "    return is_solution"
   ]
  },
  {
   "cell_type": "code",
   "execution_count": 8,
   "metadata": {},
   "outputs": [],
   "source": [
    "solution_discussions_df = pd.DataFrame()\n",
    "for idx, comp_row in competitions_df.iterrows():\n",
    "    new_solutions_df = get_solution_discussion(comp_row[\"Slug\"], comp_row[\"ForumId\"])\n",
    "    solution_discussions_df = pd.concat([solution_discussions_df, new_solutions_df])            "
   ]
  },
  {
   "cell_type": "code",
   "execution_count": 9,
   "metadata": {},
   "outputs": [],
   "source": [
    "solution_discussions_df = pd.merge(solution_discussions_df, forum_messages_df, left_on='FirstForumMessageId', right_on='Id')\n",
    "solution_discussions_df = pd.merge(solution_discussions_df, users_df, left_on='PostUserId', right_on='Id')\n",
    "solution_discussions_df = pd.merge(solution_discussions_df, competitions_df, left_on='competition_ref', right_on='Slug')\n",
    "solution_discussions_df = solution_discussions_df[['competition_ref', 'CreationDate', 'url', 'UserName', 'Title', 'DeadlineDate', 'Score']]"
   ]
  },
  {
   "cell_type": "code",
   "execution_count": 10,
   "metadata": {},
   "outputs": [],
   "source": [
    "solution_discussions_df = solution_discussions_df.rename(columns={'Title': 'solution_title', 'CreationDate': 'solution_open_date', 'DeadlineDate': 'competition_deadline', 'UserName': 'user_name', 'Score': 'score'})\n",
    "solution_discussions_df[\"solution_open_date\"] = pd.to_datetime(solution_discussions_df[\"solution_open_date\"], format=\"%m/%d/%Y %H:%M:%S\")\n",
    "solution_discussions_df[\"competition_deadline\"] = pd.to_datetime(solution_discussions_df[\"competition_deadline\"], format=\"%m/%d/%Y %H:%M:%S\")\n",
    "solution_discussions_df[\"include_code\"] = False"
   ]
  },
  {
   "cell_type": "code",
   "execution_count": 11,
   "metadata": {},
   "outputs": [
    {
     "name": "stderr",
     "output_type": "stream",
     "text": [
      "2019-09-26 04:21:09,161 __main__ 1 [DEBUG][<module>] Get 1574 solutions from discussions\n"
     ]
    }
   ],
   "source": [
    "logger.debug('Get {} solutions from discussions'.format(len(solution_discussions_df)))"
   ]
  },
  {
   "cell_type": "markdown",
   "metadata": {},
   "source": [
    "## Get solutions from kernel"
   ]
  },
  {
   "cell_type": "code",
   "execution_count": 12,
   "metadata": {},
   "outputs": [
    {
     "name": "stderr",
     "output_type": "stream",
     "text": [
      "2019-09-26 04:21:09,172 __main__ 1 [DEBUG][<module>] Kernel\n"
     ]
    }
   ],
   "source": [
    "logger.debug('Kernel')"
   ]
  },
  {
   "cell_type": "code",
   "execution_count": 13,
   "metadata": {},
   "outputs": [],
   "source": [
    "kernels_df = pd.read_csv(data_path + \"Kernels.csv\")\n",
    "kernels_df = kernels_df[['AuthorUserId', 'MadePublicDate', 'CurrentUrlSlug', 'CurrentKernelVersionId', 'TotalVotes']]"
   ]
  },
  {
   "cell_type": "code",
   "execution_count": 14,
   "metadata": {},
   "outputs": [],
   "source": [
    "def get_kernel_url(row):\n",
    "    return \"https://www.kaggle.com/{}/{}\".format(str(row[\"UserName\"]), str(row[\"CurrentUrlSlug\"]))"
   ]
  },
  {
   "cell_type": "code",
   "execution_count": 15,
   "metadata": {},
   "outputs": [],
   "source": [
    "def get_solution_kernel(competition_slug):\n",
    "    results_df = kernels_df[kernels_df[\"Slug\"] == competition_slug]\n",
    "    results_df[\"is_solution\"] = results_df[\"CurrentUrlSlug\"].apply(lambda x: is_solution(str(x)))\n",
    "    results_df = results_df[results_df[\"is_solution\"] == 1]\n",
    "    return results_df[['CurrentUrlSlug', 'UserName', 'Slug', 'url', 'MadePublicDate', 'DeadlineDate', 'TotalVotes']]"
   ]
  },
  {
   "cell_type": "code",
   "execution_count": 16,
   "metadata": {},
   "outputs": [],
   "source": [
    "kernels_df = pd.merge(kernels_df, users_df, left_on='AuthorUserId', right_on='Id')\n",
    "kernels_df = pd.merge(kernels_df, kernel_version_competition_sources_df, left_on='CurrentKernelVersionId', right_on='KernelVersionId')\n",
    "kernels_df = pd.merge(kernels_df, competitions_df, left_on='SourceCompetitionId', right_on='Id')\n",
    "kernels_df['url'] =  kernels_df.apply(get_kernel_url, axis=1)\n",
    "kernels_df['CurrentUrlSlug'] = kernels_df['CurrentUrlSlug'].str.replace('-', ' ')"
   ]
  },
  {
   "cell_type": "code",
   "execution_count": 17,
   "metadata": {},
   "outputs": [],
   "source": [
    "solution_kernels_df = pd.DataFrame()\n",
    "for idx, comp_row in competitions_df.iterrows():\n",
    "    new_solutions_df = get_solution_kernel(comp_row[\"Slug\"])\n",
    "    solution_kernels_df = pd.concat([solution_kernels_df, new_solutions_df])            "
   ]
  },
  {
   "cell_type": "code",
   "execution_count": 18,
   "metadata": {},
   "outputs": [],
   "source": [
    "solution_kernels_df = solution_kernels_df.rename(columns={'CurrentUrlSlug': 'solution_title', 'Slug': 'competition_ref', 'MadePublicDate': 'solution_open_date', 'DeadlineDate': 'competition_deadline','UserName': 'user_name', 'TotalVotes': 'score'})\n",
    "solution_kernels_df[\"solution_open_date\"] = pd.to_datetime(solution_kernels_df[\"solution_open_date\"], format=\"%m/%d/%Y\")\n",
    "solution_kernels_df[\"competition_deadline\"] = pd.to_datetime(solution_kernels_df[\"competition_deadline\"], format=\"%m/%d/%Y %H:%M:%S\")\n",
    "solution_kernels_df[\"include_code\"] = True"
   ]
  },
  {
   "cell_type": "code",
   "execution_count": 19,
   "metadata": {},
   "outputs": [
    {
     "name": "stderr",
     "output_type": "stream",
     "text": [
      "2019-09-26 04:21:15,608 __main__ 1 [DEBUG][<module>] Get 536 solutions from kernels\n"
     ]
    }
   ],
   "source": [
    "logger.debug('Get {} solutions from kernels'.format(len(solution_kernels_df)))"
   ]
  },
  {
   "cell_type": "markdown",
   "metadata": {},
   "source": [
    "## Concat and save"
   ]
  },
  {
   "cell_type": "code",
   "execution_count": 20,
   "metadata": {},
   "outputs": [
    {
     "name": "stderr",
     "output_type": "stream",
     "text": [
      "2019-09-26 04:21:15,632 __main__ 2 [DEBUG][<module>] Get 2110 solutions from meta kaggle\n"
     ]
    }
   ],
   "source": [
    "solutions_df = pd.concat([solution_kernels_df, solution_discussions_df]).reset_index(drop=True)\n",
    "logger.debug('Get {} solutions from meta kaggle'.format(len(solutions_df)))"
   ]
  },
  {
   "cell_type": "code",
   "execution_count": 21,
   "metadata": {},
   "outputs": [
    {
     "name": "stderr",
     "output_type": "stream",
     "text": [
      "2019-09-26 04:21:15,679 __main__ 2 [DEBUG][<module>] Save\n"
     ]
    }
   ],
   "source": [
    "solutions_df.to_csv(data_path  + 'solutions.csv')\n",
    "logger.debug('Save')"
   ]
  },
  {
   "cell_type": "code",
   "execution_count": null,
   "metadata": {},
   "outputs": [],
   "source": []
  }
 ],
 "metadata": {
  "kernelspec": {
   "display_name": "Python 3",
   "language": "python",
   "name": "python3"
  },
  "language_info": {
   "codemirror_mode": {
    "name": "ipython",
    "version": 3
   },
   "file_extension": ".py",
   "mimetype": "text/x-python",
   "name": "python",
   "nbconvert_exporter": "python",
   "pygments_lexer": "ipython3",
   "version": "3.6.8"
  }
 },
 "nbformat": 4,
 "nbformat_minor": 1
}
