{
 "cells": [
  {
   "cell_type": "code",
   "execution_count": 1,
   "metadata": {
    "_cell_guid": "b1076dfc-b9ad-4769-8c92-a6c4dae69d19",
    "_uuid": "8f2839f25d086af736a60e9eeb907d3b93b6e0e5"
   },
   "outputs": [],
   "source": [
    "import warnings\n",
    "from logging import StreamHandler, INFO, DEBUG, Formatter, FileHandler, getLogger\n",
    "\n",
    "import numpy as np\n",
    "import pandas as pd\n",
    "\n",
    "warnings.filterwarnings(\"ignore\")\n",
    "\n",
    "pd.set_option(\"display.max_colwidth\", 200)\n",
    "\n",
    "data_path = \"data/\"\n",
    "\n",
    "logger = getLogger(__name__)\n",
    "log_fmt = Formatter(\n",
    "    '%(asctime)s %(name)s %(lineno)d [%(levelname)s][%(funcName)s] %(message)s')\n",
    "# info\n",
    "handler = StreamHandler()\n",
    "handler.setLevel(INFO)\n",
    "handler.setFormatter(log_fmt)\n",
    "logger.addHandler(handler)\n",
    "logger.setLevel(INFO)\n",
    "# debug\n",
    "handler = StreamHandler()\n",
    "handler.setLevel(DEBUG)\n",
    "handler.setFormatter(log_fmt)\n",
    "logger.addHandler(handler)\n",
    "logger.setLevel(DEBUG)"
   ]
  },
  {
   "cell_type": "markdown",
   "metadata": {},
   "source": [
    "## Load data"
   ]
  },
  {
   "cell_type": "code",
   "execution_count": 2,
   "metadata": {},
   "outputs": [
    {
     "name": "stderr",
     "output_type": "stream",
     "text": [
      "2019-09-26 03:24:25,256 __main__ 1 [DEBUG][<module>] Load data\n"
     ]
    }
   ],
   "source": [
    "logger.debug('Load data')\n",
    "competition_results_df = pd.read_csv(data_path + \"competition_results.csv\")\n",
    "competition_results_df = competition_results_df[['user_name', 'competition_ref', 'rank', 'medal']]\n",
    "\n",
    "solutions_df = pd.read_csv(data_path + \"solutions.csv\")\n",
    "solutions_df = solutions_df[['competition_deadline', 'competition_deadline', 'competition_ref', 'include_code', 'score', 'solution_open_date', 'solution_title', 'url', 'user_name']]"
   ]
  },
  {
   "cell_type": "markdown",
   "metadata": {},
   "source": [
    "## Merge and save"
   ]
  },
  {
   "cell_type": "code",
   "execution_count": 3,
   "metadata": {},
   "outputs": [
    {
     "name": "stderr",
     "output_type": "stream",
     "text": [
      "2019-09-26 03:24:25,306 __main__ 1 [DEBUG][<module>] Merge\n"
     ]
    }
   ],
   "source": [
    "logger.debug('Merge')\n",
    "solutions_final_df = pd.merge(solutions_df, competition_results_df, left_on=['competition_ref', 'user_name'], right_on=['competition_ref', 'user_name'])\n",
    "solutions_final_df = solutions_final_df[['solution_title', 'competition_ref', 'rank', 'medal', 'include_code', 'score', 'solution_open_date', 'competition_deadline', 'url', 'user_name']]"
   ]
  },
  {
   "cell_type": "code",
   "execution_count": 4,
   "metadata": {},
   "outputs": [
    {
     "name": "stderr",
     "output_type": "stream",
     "text": [
      "2019-09-26 03:24:25,367 __main__ 2 [DEBUG][<module>] Save\n"
     ]
    }
   ],
   "source": [
    "solutions_final_df.to_csv( data_path + 'solutions_final.csv')\n",
    "logger.debug('Save')"
   ]
  }
 ],
 "metadata": {
  "kernelspec": {
   "display_name": "Python 3",
   "language": "python",
   "name": "python3"
  },
  "language_info": {
   "codemirror_mode": {
    "name": "ipython",
    "version": 3
   },
   "file_extension": ".py",
   "mimetype": "text/x-python",
   "name": "python",
   "nbconvert_exporter": "python",
   "pygments_lexer": "ipython3",
   "version": "3.6.8"
  }
 },
 "nbformat": 4,
 "nbformat_minor": 1
}
